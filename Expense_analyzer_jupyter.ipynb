{
 "cells": [
  {
   "cell_type": "code",
   "execution_count": 1,
   "metadata": {},
   "outputs": [],
   "source": [
    "import gspread\n",
    "from oauth2client.service_account import ServiceAccountCredentials\n",
    "import pandas as pd\n",
    "import numpy as np\n",
    "from datetime import datetime\n",
    "#import datetime\n",
    "from dateutil.rrule import rrule, MONTHLY\n",
    "import plotly.plotly as py\n",
    "import plotly.graph_objs as go\n",
    "from plotly.offline import download_plotlyjs, init_notebook_mode, plot, iplot\n",
    "import calendar"
   ]
  },
  {
   "cell_type": "code",
   "execution_count": 2,
   "metadata": {},
   "outputs": [
    {
     "name": "stdout",
     "output_type": "stream",
     "text": [
      "['Timestamp', 'Item', 'Amount', 'Category', 'Context(Anything that will help, to remember this expenditure)', 'Payment Method']\n",
      "199\n"
     ]
    }
   ],
   "source": [
    "#Set up Access to GDrive account and get token, scope from there\n",
    "credentials = ServiceAccountCredentials.from_json_keyfile_name(token,\n",
    "        scope)\n",
    "\n",
    "gc = gspread.authorize(credentials)\n",
    "\n",
    "sh = gc.open(\"Expenses-VK(Responses)\")\n",
    "wk = sh.worksheet(\"Form responses 1\")\n",
    "\n",
    "\n",
    "exp_list = []\n",
    "headers = wk.row_values(1)\n",
    "date_list = wk.col_values(1)[1:]\n",
    "exp_list = [int(i) for i in wk.col_values(3)[1:]]\n",
    "category_list = wk.col_values(4)[1:]\n",
    "payment_list = wk.col_values(6)[1:]\n",
    "print(headers)\n",
    "print(len(exp_list))"
   ]
  },
  {
   "cell_type": "code",
   "execution_count": 3,
   "metadata": {},
   "outputs": [
    {
     "name": "stdout",
     "output_type": "stream",
     "text": [
      "199\n"
     ]
    }
   ],
   "source": [
    "datetime_list = []\n",
    "for dates in date_list:\n",
    "    datetime_list.append(datetime.strptime(dates,'%d/%m/%Y %H:%M:%S'))\n",
    "print(len(datetime_list))"
   ]
  },
  {
   "cell_type": "code",
   "execution_count": 4,
   "metadata": {},
   "outputs": [],
   "source": [
    "exp_dict = {}\n",
    "j = 0\n",
    "for date in datetime_list:\n",
    "    exp_dict[date] = {\"exp_val\": exp_list[j],\n",
    "                       \"cat\": category_list[j],\n",
    "                       \"pay_type\": payment_list[j]}\n",
    "    j += 1"
   ]
  },
  {
   "cell_type": "code",
   "execution_count": 5,
   "metadata": {},
   "outputs": [
    {
     "name": "stdout",
     "output_type": "stream",
     "text": [
      "                     exp_val             cat pay_type\n",
      "2018-08-28 13:58:41     1087  Material Items         \n",
      "2018-08-30 17:53:55      200  Transportation         \n",
      "2018-08-30 17:54:59      185           Gifts         \n",
      "2018-08-31 11:58:14     3395          Travel         \n",
      "2018-08-31 13:07:33       95      Dining Out         \n"
     ]
    },
    {
     "data": {
      "text/plain": [
       "exp_val      int64\n",
       "cat         object\n",
       "pay_type    object\n",
       "dtype: object"
      ]
     },
     "execution_count": 5,
     "metadata": {},
     "output_type": "execute_result"
    }
   ],
   "source": [
    "exp_df = pd.DataFrame(\n",
    "{\"exp_val\":exp_list,\n",
    "\"cat\":category_list,\n",
    "\"pay_type\":payment_list},\n",
    "index=datetime_list)\n",
    "\n",
    "print(exp_df.head())\n",
    "exp_df.dtypes"
   ]
  },
  {
   "cell_type": "code",
   "execution_count": 6,
   "metadata": {},
   "outputs": [],
   "source": [
    "start_date = 1 #I've started logging this from Oct 1st, 2018\n",
    "start_month = 8 \n",
    "start_year = 2018\n",
    "this_date = datetime.today().date\n",
    "this_year = datetime.today().year\n",
    "this_month = datetime.today().month \n"
   ]
  },
  {
   "cell_type": "code",
   "execution_count": 7,
   "metadata": {},
   "outputs": [
    {
     "name": "stdout",
     "output_type": "stream",
     "text": [
      "7706\n",
      "December exp avg:  1051.5806451612902\n",
      "Total exp avg: 1089.4516129032259\n"
     ]
    }
   ],
   "source": [
    "#print(datetime.date(year=2018, month=12, day=1))\n",
    "dec_exp_df = exp_df.loc['20181201':'20181231']\n",
    "print(np.sum(dec_exp_df.loc[dec_exp_df['cat'].str.contains('Travel')]['exp_val']))\n",
    "print(\"December exp avg: \",(np.sum(exp_df.loc['20181201':'20181231']['exp_val']))/31)\n",
    "print(\"Total exp avg:\",(np.sum(exp_df.loc['20181001':'20181231']['exp_val']))/93)\n",
    "\n",
    "#for month in range(start_month, this_month):\n",
    "#month = 9\n",
    "#exp_df.loc[datetime.date(year=start_year, month=this_month, day=1):datetime.today()]['exp_val']"
   ]
  },
  {
   "cell_type": "code",
   "execution_count": 8,
   "metadata": {},
   "outputs": [
    {
     "data": {
      "text/html": [
       "<div>\n",
       "<style scoped>\n",
       "    .dataframe tbody tr th:only-of-type {\n",
       "        vertical-align: middle;\n",
       "    }\n",
       "\n",
       "    .dataframe tbody tr th {\n",
       "        vertical-align: top;\n",
       "    }\n",
       "\n",
       "    .dataframe thead th {\n",
       "        text-align: right;\n",
       "    }\n",
       "</style>\n",
       "<table border=\"1\" class=\"dataframe\">\n",
       "  <thead>\n",
       "    <tr style=\"text-align: right;\">\n",
       "      <th></th>\n",
       "      <th>exp_val</th>\n",
       "      <th>cat</th>\n",
       "      <th>pay_type</th>\n",
       "    </tr>\n",
       "  </thead>\n",
       "  <tbody>\n",
       "    <tr>\n",
       "      <th>2018-12-01 06:36:18</th>\n",
       "      <td>6</td>\n",
       "      <td>Travel</td>\n",
       "      <td>Cash</td>\n",
       "    </tr>\n",
       "    <tr>\n",
       "      <th>2018-12-01 14:04:01</th>\n",
       "      <td>230</td>\n",
       "      <td>Travel</td>\n",
       "      <td>Cash</td>\n",
       "    </tr>\n",
       "    <tr>\n",
       "      <th>2018-12-01 14:05:18</th>\n",
       "      <td>72</td>\n",
       "      <td>Travel</td>\n",
       "      <td>Cash</td>\n",
       "    </tr>\n",
       "    <tr>\n",
       "      <th>2018-12-12 13:45:26</th>\n",
       "      <td>170</td>\n",
       "      <td>Travel</td>\n",
       "      <td>Cash</td>\n",
       "    </tr>\n",
       "    <tr>\n",
       "      <th>2018-12-12 13:46:05</th>\n",
       "      <td>60</td>\n",
       "      <td>Travel</td>\n",
       "      <td>Cash</td>\n",
       "    </tr>\n",
       "    <tr>\n",
       "      <th>2018-12-12 19:44:13</th>\n",
       "      <td>400</td>\n",
       "      <td>Travel</td>\n",
       "      <td>Cash</td>\n",
       "    </tr>\n",
       "    <tr>\n",
       "      <th>2018-12-12 19:45:09</th>\n",
       "      <td>244</td>\n",
       "      <td>Travel</td>\n",
       "      <td>Cash</td>\n",
       "    </tr>\n",
       "    <tr>\n",
       "      <th>2018-12-14 19:31:07</th>\n",
       "      <td>1100</td>\n",
       "      <td>Travel</td>\n",
       "      <td>SBI BHIM/Debit/Internet Banking</td>\n",
       "    </tr>\n",
       "    <tr>\n",
       "      <th>2018-12-15 11:12:39</th>\n",
       "      <td>1700</td>\n",
       "      <td>Travel</td>\n",
       "      <td>SBI BHIM/Debit/Internet Banking</td>\n",
       "    </tr>\n",
       "    <tr>\n",
       "      <th>2018-12-15 14:36:10</th>\n",
       "      <td>735</td>\n",
       "      <td>Travel</td>\n",
       "      <td>SBI BHIM/Debit/Internet Banking</td>\n",
       "    </tr>\n",
       "    <tr>\n",
       "      <th>2018-12-15 17:35:04</th>\n",
       "      <td>193</td>\n",
       "      <td>Travel</td>\n",
       "      <td>SBI BHIM/Debit/Internet Banking</td>\n",
       "    </tr>\n",
       "    <tr>\n",
       "      <th>2018-12-16 11:48:50</th>\n",
       "      <td>284</td>\n",
       "      <td>Travel</td>\n",
       "      <td>SBI BHIM/Debit/Internet Banking</td>\n",
       "    </tr>\n",
       "    <tr>\n",
       "      <th>2018-12-16 11:49:44</th>\n",
       "      <td>240</td>\n",
       "      <td>Travel</td>\n",
       "      <td>SBI BHIM/Debit/Internet Banking</td>\n",
       "    </tr>\n",
       "    <tr>\n",
       "      <th>2018-12-16 11:50:23</th>\n",
       "      <td>420</td>\n",
       "      <td>Travel</td>\n",
       "      <td>SBI BHIM/Debit/Internet Banking</td>\n",
       "    </tr>\n",
       "    <tr>\n",
       "      <th>2018-12-16 17:27:08</th>\n",
       "      <td>278</td>\n",
       "      <td>Travel</td>\n",
       "      <td>Paytm</td>\n",
       "    </tr>\n",
       "    <tr>\n",
       "      <th>2018-12-16 18:58:36</th>\n",
       "      <td>220</td>\n",
       "      <td>Travel</td>\n",
       "      <td>SBI BHIM/Debit/Internet Banking</td>\n",
       "    </tr>\n",
       "    <tr>\n",
       "      <th>2018-12-16 19:00:13</th>\n",
       "      <td>1354</td>\n",
       "      <td>Travel</td>\n",
       "      <td>SBI BHIM/Debit/Internet Banking</td>\n",
       "    </tr>\n",
       "  </tbody>\n",
       "</table>\n",
       "</div>"
      ],
      "text/plain": [
       "                     exp_val     cat                         pay_type\n",
       "2018-12-01 06:36:18        6  Travel                             Cash\n",
       "2018-12-01 14:04:01      230  Travel                             Cash\n",
       "2018-12-01 14:05:18       72  Travel                             Cash\n",
       "2018-12-12 13:45:26      170  Travel                             Cash\n",
       "2018-12-12 13:46:05       60  Travel                             Cash\n",
       "2018-12-12 19:44:13      400  Travel                             Cash\n",
       "2018-12-12 19:45:09      244  Travel                             Cash\n",
       "2018-12-14 19:31:07     1100  Travel  SBI BHIM/Debit/Internet Banking\n",
       "2018-12-15 11:12:39     1700  Travel  SBI BHIM/Debit/Internet Banking\n",
       "2018-12-15 14:36:10      735  Travel  SBI BHIM/Debit/Internet Banking\n",
       "2018-12-15 17:35:04      193  Travel  SBI BHIM/Debit/Internet Banking\n",
       "2018-12-16 11:48:50      284  Travel  SBI BHIM/Debit/Internet Banking\n",
       "2018-12-16 11:49:44      240  Travel  SBI BHIM/Debit/Internet Banking\n",
       "2018-12-16 11:50:23      420  Travel  SBI BHIM/Debit/Internet Banking\n",
       "2018-12-16 17:27:08      278  Travel                            Paytm\n",
       "2018-12-16 18:58:36      220  Travel  SBI BHIM/Debit/Internet Banking\n",
       "2018-12-16 19:00:13     1354  Travel  SBI BHIM/Debit/Internet Banking"
      ]
     },
     "execution_count": 8,
     "metadata": {},
     "output_type": "execute_result"
    }
   ],
   "source": [
    "exp_df[exp_df['cat'] == \"Travel\"].loc['20181201':'20181231']"
   ]
  },
  {
   "cell_type": "code",
   "execution_count": 9,
   "metadata": {},
   "outputs": [
    {
     "data": {
      "text/plain": [
       "'file://C:\\\\Users\\\\vkrishnaswam\\\\Projects\\\\Expenses\\\\NewExpensesGraph.html'"
      ]
     },
     "execution_count": 9,
     "metadata": {},
     "output_type": "execute_result"
    }
   ],
   "source": [
    "#This month calculation\n",
    "trace = []\n",
    "def per_month_bar_chart(exp_df, this_year, this_month):\n",
    "    last_date = calendar.monthrange(this_year, this_month)[1]\n",
    "    month_df = exp_df.loc[(str(this_year)+str(this_month).zfill(2)+'01'):\n",
    "                  str(this_year)+str(this_month).zfill(2)+str(last_date)]\n",
    "    total_exp = np.sum(month_df['exp_val'])\n",
    "    max_exp = np.max(month_df['exp_val'])\n",
    "    avg_exp = np.average(month_df['exp_val'])\n",
    "    total_travel = np.sum(month_df.loc[month_df['cat'] == \"Travel\"]['exp_val'])\n",
    "    total_do = np.sum(month_df.loc[month_df['cat'] == \"Dining Out\"]['exp_val'])\n",
    "    total_charity = np.sum(month_df.loc[month_df['cat'] == \"Charity\"]['exp_val'])\n",
    "    total_entertainment = np.sum(month_df.loc[month_df['cat'] == \"Entertainment\"]['exp_val'])\n",
    "    total_commute = np.sum(month_df.loc[month_df['cat'] == \"Commutes\"]['exp_val'])\n",
    "    total_activities = np.sum(month_df.loc[month_df['cat'] == \"Activities\"]['exp_val'])\n",
    "    total_gifts = np.sum(month_df.loc[month_df['cat'] == \"Gifts\"]['exp_val'])\n",
    "      \n",
    "    trace.append(go.Bar(\n",
    "    x = ['Total Expense', 'Max Expense', 'Average', 'Travel', 'Dining out', \n",
    "         'Charity', 'Entertainment', 'Commute', 'Activities', 'Gifts'],\n",
    "    y = [total_exp, max_exp, avg_exp, total_travel, total_do, \n",
    "         total_charity, total_entertainment, total_commute, total_activities, total_gifts],\n",
    "    name = calendar.month_name[this_month]\n",
    "    ))\n",
    "    \n",
    "for year in range(start_year, this_year+1):\n",
    "    for month in range(1,13):\n",
    "        if year == 2018 and month > 8:\n",
    "            per_month_bar_chart(exp_df, year, month)\n",
    "        elif year == this_year and month < this_month+1:\n",
    "            per_month_bar_chart(exp_df, year, month)\n",
    "plot(trace, filename=\"NewExpensesGraph.html\")"
   ]
  },
  {
   "cell_type": "code",
   "execution_count": 10,
   "metadata": {},
   "outputs": [
    {
     "data": {
      "text/plain": [
       "'file://C:\\\\Users\\\\vkrishnaswam\\\\Projects\\\\Expenses\\\\NewExpensesPieGraph.html'"
      ]
     },
     "execution_count": 10,
     "metadata": {},
     "output_type": "execute_result"
    }
   ],
   "source": [
    "pie_trace = []\n",
    "xaxis1 = [.24, 0.48]\n",
    "yaxis1 = [.25, 0.50]\n",
    "\n",
    "xaxis2 = [.52, 1]\n",
    "yaxis2 = [.52, 1]\n",
    "def per_month_pie(exp_df, this_year, this_month, xaxisvalues, yaxisvalues):\n",
    "    last_date = calendar.monthrange(this_year, this_month)[1]\n",
    "    month_df = exp_df.loc[(str(this_year)+str(this_month).zfill(2)+'01'):\n",
    "                  str(this_year)+str(this_month).zfill(2)+str(last_date)]\n",
    "    total_exp = np.sum(month_df['exp_val'])\n",
    "    max_exp = np.max(month_df['exp_val'])\n",
    "    avg_exp = np.average(month_df['exp_val'])\n",
    "    total_travel = np.sum(month_df.loc[month_df['cat'] == \"Travel\"]['exp_val'])\n",
    "    total_do = np.sum(month_df.loc[month_df['cat'] == \"Dining Out\"]['exp_val'])\n",
    "    total_charity = np.sum(month_df.loc[month_df['cat'] == \"Charity\"]['exp_val'])\n",
    "    total_entertainment = np.sum(month_df.loc[month_df['cat'] == \"Entertainment\"]['exp_val'])\n",
    "    total_commute = np.sum(month_df.loc[month_df['cat'] == \"Commutes\"]['exp_val'])\n",
    "    total_activities = np.sum(month_df.loc[month_df['cat'] == \"Activities\"]['exp_val'])\n",
    "      \n",
    "    pie_trace.append({\n",
    "        'labels':['Travel', 'Dining out', 'Charity', 'Entertainment', 'Commute', 'Activities'],\n",
    "        'values':[total_travel, total_do, total_charity, total_entertainment, total_commute, total_activities],\n",
    "        'type':'pie',\n",
    "        'name': this_month,\n",
    "        'domain': {'x' : xaxisvalues,\n",
    "                   'y' : yaxisvalues}\n",
    "    })\n",
    "    \n",
    "fig = {'data': pie_trace,\n",
    "       'layout': {'title': 'Van Gogh: 5 Most Prominent Colors Shown Proportionally',\n",
    "       'showlegend': False}\n",
    "      }\n",
    "\n",
    "\n",
    "per_month_pie(exp_df, 2019, 1, xaxis1, yaxis1)\n",
    "per_month_pie(exp_df, 2019, 2, xaxis2, yaxis2)\n",
    "plot(fig, filename=\"NewExpensesPieGraph.html\")"
   ]
  },
  {
   "cell_type": "code",
   "execution_count": 11,
   "metadata": {},
   "outputs": [],
   "source": [
    "#billing_date_* is supposed to be just a date of the month? Basically an integer\n",
    "#def current_credit_card_expense(exp_df, billing_date_amex, billing_date_sbi):\n",
    "#    current_billing_date_amex = datetime.today().month, \n",
    "    "
   ]
  },
  {
   "cell_type": "code",
   "execution_count": 12,
   "metadata": {},
   "outputs": [
    {
     "data": {
      "text/html": [
       "<script type=\"text/javascript\">window.PlotlyConfig = {MathJaxConfig: 'local'};</script><script type=\"text/javascript\">if (window.MathJax) {MathJax.Hub.Config({SVG: {font: \"STIX-Web\"}});}</script><script>requirejs.config({paths: { 'plotly': ['https://cdn.plot.ly/plotly-latest.min']},});if(!window._Plotly) {require(['plotly'],function(plotly) {window._Plotly=plotly;});}</script>"
      ],
      "text/vnd.plotly.v1+html": [
       "<script type=\"text/javascript\">window.PlotlyConfig = {MathJaxConfig: 'local'};</script><script type=\"text/javascript\">if (window.MathJax) {MathJax.Hub.Config({SVG: {font: \"STIX-Web\"}});}</script><script>requirejs.config({paths: { 'plotly': ['https://cdn.plot.ly/plotly-latest.min']},});if(!window._Plotly) {require(['plotly'],function(plotly) {window._Plotly=plotly;});}</script>"
      ]
     },
     "metadata": {},
     "output_type": "display_data"
    }
   ],
   "source": [
    "init_notebook_mode(connected=True)"
   ]
  },
  {
   "cell_type": "code",
   "execution_count": 13,
   "metadata": {},
   "outputs": [
    {
     "data": {
      "text/plain": [
       "'file://C:\\\\Users\\\\vkrishnaswam\\\\Projects\\\\Expenses\\\\expenses_graph.html'"
      ]
     },
     "execution_count": 13,
     "metadata": {},
     "output_type": "execute_result"
    }
   ],
   "source": [
    "trace0 = go.Scatter(\n",
    "    x = datetime_list,\n",
    "    y = exp_list\n",
    ")\n",
    "data = [trace0]\n",
    "\n",
    "plot(data, filename=\"expenses_graph.html\")"
   ]
  },
  {
   "cell_type": "code",
   "execution_count": null,
   "metadata": {},
   "outputs": [],
   "source": []
  }
 ],
 "metadata": {
  "kernelspec": {
   "display_name": "Python 3",
   "language": "python",
   "name": "python3"
  },
  "language_info": {
   "codemirror_mode": {
    "name": "ipython",
    "version": 3
   },
   "file_extension": ".py",
   "mimetype": "text/x-python",
   "name": "python",
   "nbconvert_exporter": "python",
   "pygments_lexer": "ipython3",
   "version": "3.7.1"
  }
 },
 "nbformat": 4,
 "nbformat_minor": 2
}
